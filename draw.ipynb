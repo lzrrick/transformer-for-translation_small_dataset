{
 "cells": [
  {
   "cell_type": "code",
   "execution_count": null,
   "metadata": {},
   "outputs": [],
   "source": [
    "%matplotlib ipympl                                 \n",
    "import matplotlib.pyplot as plt                     # 导入 主角 matplotlib\n",
    "from matplotlib.animation import FuncAnimation      # 导入主角的武器 animation\n",
    "# %config InlineBackend.figure_forymat = 'retina'      # 导入主角的皮肤 \n",
    "\n",
    "fig, ax = plt.subplots()                            # fig指画板，ax是上面的画布\n",
    "line, = ax.plot([])                                 # 铅笔在画布上画根草稿线，晚点具体在决定这里放什么\n",
    "plt.title('real time price')                        # 给画板起个题目吧\n",
    "ax.set_xlabel('timestamp')                          # xlabel是横轴的意思， 框框(正常人念括号)里面就写横轴的名字\n",
    "ax.set_ylabel('price') # \n",
    "\n",
    "x_0 = []\n",
    "y_0 = []\n",
    "def update(): # \n",
    "\n",
    "    \n",
    "    ax.set_xlim(x_0[0], x_0[-1])                    # 这里要设置一下，画布显示的范围, 你可以不用全部显示你的数据，也可以全部显示并在边缘留点空白\n",
    "    ax.set_ylim(min(y_0)-50, max(y_0)+50)           # 这里是显示的纵轴范围， 我在上下多加了50的空档\n",
    "#     print('x_0',x_0)                              # 你可以打印出来看看，不用担心，这里不会跟着实时更新的图标重复打印\n",
    "#     print('y_0',y_0) \n",
    "    line.set_data((x_0, y_0))                       # 这里把我们的横纵坐标数据放进  我们一开始 画的草稿线上 \n",
    "    return line                                     # 这个函数到这里就输出成功啦，\n",
    "\n",
    "anim = FuncAnimation(fig, update, frames=range(100), interval=1000) # 这里就是调用你设定的横纵数据，帮你画图，如果你的数据会变，图就会变\n",
    "# 4个参数解释一下, fig就是画板，不用改。 \n",
    "# update 就是你上面更新 x,y数据的方法，改成你的数据就好了\n",
    "# frames 我用不着，没看用途\n",
    "# interval 是刷新频率， 设定1000 就是1000毫秒，就1秒啦\n",
    "plt.show()\n",
    "for i in range(10000):\n",
    "    x_0.append(i)\n",
    "    y_0.append(i)\n",
    "    update()\n"
   ]
  },
  {
   "cell_type": "code",
   "execution_count": null,
   "metadata": {},
   "outputs": [],
   "source": [
    "import matplotlib.pyplot as plt\n",
    "\n",
    "\n",
    "plt.ion()\n",
    "def plot_durations(x, y):\n",
    "    plt.plot(x, y,'.')\n",
    "    display.clear_output(wait=True)\n",
    "    display.display(plt.gcf())\n",
    "        \n",
    "y = []\n",
    "for i in range(100):\n",
    "    y1 = i*i\n",
    "    # plot_durations(i, y1)\n",
    "    plt.plot(i, y1,'.')\n",
    "    display.clear_output(wait=True)\n",
    "    display.display(plt.gcf())\n",
    "    import time\n",
    "    time.sleep(1)\n",
    "\n",
    "\n"
   ]
  }
 ],
 "metadata": {
  "kernelspec": {
   "display_name": "base",
   "language": "python",
   "name": "python3"
  },
  "language_info": {
   "codemirror_mode": {
    "name": "ipython",
    "version": 3
   },
   "file_extension": ".py",
   "mimetype": "text/x-python",
   "name": "python",
   "nbconvert_exporter": "python",
   "pygments_lexer": "ipython3",
   "version": "3.10.9"
  },
  "orig_nbformat": 4
 },
 "nbformat": 4,
 "nbformat_minor": 2
}
